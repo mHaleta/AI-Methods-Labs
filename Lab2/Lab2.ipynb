{
 "cells": [
  {
   "cell_type": "code",
   "execution_count": 1,
   "metadata": {},
   "outputs": [],
   "source": [
    "import numpy as np\n",
    "import pandas as pd\n",
    "from ast import literal_eval"
   ]
  },
  {
   "cell_type": "markdown",
   "metadata": {},
   "source": [
    "# Task 1 Класичний нейрон з довільною кількістю входів"
   ]
  },
  {
   "cell_type": "markdown",
   "metadata": {},
   "source": [
    "### Режим навчання"
   ]
  },
  {
   "cell_type": "code",
   "execution_count": 2,
   "metadata": {},
   "outputs": [],
   "source": [
    "frame = pd.read_csv('input_1.csv', sep=',', index_col=0)\n",
    "data = frame.to_dict()"
   ]
  },
  {
   "cell_type": "code",
   "execution_count": 3,
   "metadata": {},
   "outputs": [],
   "source": [
    "x = np.array(literal_eval(data['Data']['X']), dtype=float)\n",
    "y_expected = float(data['Data']['Y_expected'])\n",
    "W = np.array(literal_eval(data['Data']['W']), dtype=float)\n",
    "delta_max = float(data['Data']['delta_max'])"
   ]
  },
  {
   "cell_type": "code",
   "execution_count": 4,
   "metadata": {},
   "outputs": [],
   "source": [
    "class classifier():\n",
    "    \n",
    "    def fit(self, x, y_expected, W, delta_max):\n",
    "\n",
    "        count = 0\n",
    "        while True:\n",
    "            count += 1\n",
    "            X = np.dot(W.T, x)\n",
    "            y = 1/(1+np.exp(-X))\n",
    "            delta = np.abs((y_expected - y)/y_expected)\n",
    "            if delta < delta_max:\n",
    "                break\n",
    "            else:\n",
    "                delta_y = y*(1-y)*(y_expected - y)\n",
    "                delta_w = delta_y * x\n",
    "                W += delta_w\n",
    "        \n",
    "        return count, W, y\n",
    "    \n",
    "    def predict(self, x, W):\n",
    "        X = np.dot(W.T, x)\n",
    "        y = 1/(1+np.exp(-X))\n",
    "        return y"
   ]
  },
  {
   "cell_type": "code",
   "execution_count": 5,
   "metadata": {},
   "outputs": [],
   "source": [
    "count, W, y = classifier().fit(x, y_expected, W, delta_max)\n",
    "accuracy = 100 - np.abs((y_expected - y)/y_expected)*100"
   ]
  },
  {
   "cell_type": "code",
   "execution_count": 6,
   "metadata": {},
   "outputs": [],
   "source": [
    "frame = pd.DataFrame({'Data': [count, np.array2string(W, precision=7, separator=', '), y_expected, y, str(accuracy)+\" %\"]},\n",
    "                     index=['Кількість ітерацій', 'W', 'Y очікуване', 'Y реальне', 'Accuracy'])"
   ]
  },
  {
   "cell_type": "code",
   "execution_count": 7,
   "metadata": {},
   "outputs": [],
   "source": [
    "frame.to_csv('output_1.csv', sep=',', header=True, index=True)"
   ]
  },
  {
   "cell_type": "code",
   "execution_count": 8,
   "metadata": {},
   "outputs": [
    {
     "data": {
      "text/html": [
       "<style  type=\"text/css\" >\n",
       "    #T_f9ddbd5c_cbea_11e8_b5e9_3863bbc8da29row0_col0 {\n",
       "            width:  450px;\n",
       "        }    #T_f9ddbd5c_cbea_11e8_b5e9_3863bbc8da29row1_col0 {\n",
       "            width:  450px;\n",
       "        }    #T_f9ddbd5c_cbea_11e8_b5e9_3863bbc8da29row2_col0 {\n",
       "            width:  450px;\n",
       "        }    #T_f9ddbd5c_cbea_11e8_b5e9_3863bbc8da29row3_col0 {\n",
       "            width:  450px;\n",
       "        }    #T_f9ddbd5c_cbea_11e8_b5e9_3863bbc8da29row4_col0 {\n",
       "            width:  450px;\n",
       "        }</style>  \n",
       "<table id=\"T_f9ddbd5c_cbea_11e8_b5e9_3863bbc8da29\" > \n",
       "<thead>    <tr> \n",
       "        <th class=\"blank level0\" ></th> \n",
       "        <th class=\"col_heading level0 col0\" >Data</th> \n",
       "    </tr></thead> \n",
       "<tbody>    <tr> \n",
       "        <th id=\"T_f9ddbd5c_cbea_11e8_b5e9_3863bbc8da29level0_row0\" class=\"row_heading level0 row0\" >Кількість ітерацій</th> \n",
       "        <td id=\"T_f9ddbd5c_cbea_11e8_b5e9_3863bbc8da29row0_col0\" class=\"data row0 col0\" >237</td> \n",
       "    </tr>    <tr> \n",
       "        <th id=\"T_f9ddbd5c_cbea_11e8_b5e9_3863bbc8da29level0_row1\" class=\"row_heading level0 row1\" >W</th> \n",
       "        <td id=\"T_f9ddbd5c_cbea_11e8_b5e9_3863bbc8da29row1_col0\" class=\"data row1 col0\" >[ 0.1272668, -0.0154664,  0.0154338,  0.1909002]</td> \n",
       "    </tr>    <tr> \n",
       "        <th id=\"T_f9ddbd5c_cbea_11e8_b5e9_3863bbc8da29level0_row2\" class=\"row_heading level0 row2\" >Y очікуване</th> \n",
       "        <td id=\"T_f9ddbd5c_cbea_11e8_b5e9_3863bbc8da29row2_col0\" class=\"data row2 col0\" >0.7</td> \n",
       "    </tr>    <tr> \n",
       "        <th id=\"T_f9ddbd5c_cbea_11e8_b5e9_3863bbc8da29level0_row3\" class=\"row_heading level0 row3\" >Y реальне</th> \n",
       "        <td id=\"T_f9ddbd5c_cbea_11e8_b5e9_3863bbc8da29row3_col0\" class=\"data row3 col0\" >0.705454</td> \n",
       "    </tr>    <tr> \n",
       "        <th id=\"T_f9ddbd5c_cbea_11e8_b5e9_3863bbc8da29level0_row4\" class=\"row_heading level0 row4\" >Accuracy</th> \n",
       "        <td id=\"T_f9ddbd5c_cbea_11e8_b5e9_3863bbc8da29row4_col0\" class=\"data row4 col0\" >99.2208976334287 %</td> \n",
       "    </tr></tbody> \n",
       "</table> "
      ],
      "text/plain": [
       "<pandas.io.formats.style.Styler at 0x119ed1ca080>"
      ]
     },
     "execution_count": 8,
     "metadata": {},
     "output_type": "execute_result"
    }
   ],
   "source": [
    "frame.style.set_properties(subset=['Data'], **{'width': '450px'})"
   ]
  },
  {
   "cell_type": "markdown",
   "metadata": {},
   "source": [
    "### Режим розпізнавання"
   ]
  },
  {
   "cell_type": "code",
   "execution_count": 9,
   "metadata": {},
   "outputs": [
    {
     "name": "stdout",
     "output_type": "stream",
     "text": [
      "Y реальне: 0.9119010634317091\n",
      "Y очікуване: 0.7\n",
      "69.72841950975584 %\n"
     ]
    }
   ],
   "source": [
    "y = classifier().predict([6, 1, 4, 8], W)\n",
    "y_expected = 0.7\n",
    "accuracy = 100 - np.abs((y_expected - y)/y_expected)*100\n",
    "print(\"Y реальне: \"+str(y))\n",
    "print(\"Y очікуване: \"+str(y_expected))\n",
    "print(str(accuracy)+' %')"
   ]
  },
  {
   "cell_type": "markdown",
   "metadata": {},
   "source": [
    "# Task 2 ДШП"
   ]
  },
  {
   "cell_type": "markdown",
   "metadata": {},
   "source": [
    "### Режим навчання"
   ]
  },
  {
   "cell_type": "code",
   "execution_count": 10,
   "metadata": {},
   "outputs": [],
   "source": [
    "frame = pd.read_csv('input_2.csv', sep=',', index_col=0)\n",
    "data = frame.to_dict()"
   ]
  },
  {
   "cell_type": "code",
   "execution_count": 11,
   "metadata": {},
   "outputs": [],
   "source": [
    "x = np.array(literal_eval(data['Data']['X']), dtype=float)\n",
    "y_expected = np.array(literal_eval(data['Data']['Y_expected']))\n",
    "L = int(data['Data']['L'])\n",
    "W = {}\n",
    "for i in range(1, L+1):\n",
    "    W['W'+str(i)] = np.array(literal_eval(data['Data']['W'+str(i)]), dtype=float)\n",
    "delta_max = float(data['Data']['delta_max'])"
   ]
  },
  {
   "cell_type": "code",
   "execution_count": 12,
   "metadata": {},
   "outputs": [],
   "source": [
    "class NN_classifier():\n",
    "    \n",
    "    def linear_forward(self, A, W):\n",
    "        return np.dot(W, A)\n",
    "\n",
    "    def linear_activation_forward(self, A_prev, W, activation):\n",
    "        Z = self.linear_forward(A_prev, W)\n",
    "        if activation == 'sigmoid':\n",
    "            A = 1/(1+np.exp(-Z))\n",
    "        elif activation == 'relu':\n",
    "            A = np.fmax(0, Z)\n",
    "        elif activation == 'tanh':\n",
    "            A = (np.exp(2*Z)-1)/(np.exp(2*Z)+1)\n",
    "        return A\n",
    "    \n",
    "    def linear_activation_backward(self, y, activation):\n",
    "        if activation == 'sigmoid':\n",
    "            return y*(1-y)\n",
    "        elif activation == 'relu':\n",
    "            return np.array([0 if j==0 else 1 for j in y[0]])\n",
    "        elif activation == 'tanh':\n",
    "            return 1-y**2\n",
    "    \n",
    "    def forward_propagation(self, y, L, W, activation):\n",
    "        \n",
    "        for i in range(L-1):\n",
    "            y_prev = y[str(i)]\n",
    "            y[str(i+1)] = self.linear_activation_forward(y_prev, W['W'+str(i+1)], activation)\n",
    "        y_prev = y[str(L-1)]\n",
    "        y[str(L)] = self.linear_activation_forward(y_prev, W['W'+str(L)], 'sigmoid')\n",
    "        \n",
    "        return y\n",
    "    \n",
    "    def backward_propagation(self, y, L, W, delta_max, activation):\n",
    "        delta_y = {}\n",
    "        delta_w = {}\n",
    "        delta_y[str(L-1)] = self.linear_activation_backward(y[str(L)], 'sigmoid')*(y[str(L+1)]-y[str(L)])\n",
    "        \n",
    "        assert(delta_y[str(L-1)].shape == y[str(L)].shape)\n",
    "        \n",
    "        delta_w[str(L-1)] = np.dot(delta_y[str(L-1)], y[str(L-1)].T)\n",
    "        W['W'+str(L)] += delta_w[str(L-1)]\n",
    "        \n",
    "        assert(W['W'+str(L)].shape == delta_w[str(L-1)].shape)\n",
    "        \n",
    "        for i in range(L-1, 0, -1):\n",
    "            delta_y[str(i-1)] = self.linear_activation_backward(y[str(i)], activation)* \\\n",
    "                np.dot(W['W'+str(i+1)].T, delta_y[str(i)])\n",
    "            \n",
    "            assert(delta_y[str(i-1)].shape == y[str(i)].shape)\n",
    "            \n",
    "            delta_w[str(i-1)] = np.dot(delta_y[str(i-1)], y[str(i-1)].T)\n",
    "            W['W'+str(i)] += delta_w[str(i-1)]\n",
    "            \n",
    "            assert(W['W'+str(i)].shape == delta_w[str(i-1)].shape)\n",
    "            \n",
    "        return W, y[str(L)]\n",
    "    \n",
    "    def fit(self, x, y_expected, L, W, delta_max, activation):\n",
    "        \n",
    "        y = {'0': x,\n",
    "             str(L+1): y_expected}\n",
    "        count = 0\n",
    "        while True:\n",
    "            count += 1\n",
    "            y = self.forward_propagation(y, L, W, activation)\n",
    "            delta = np.linalg.norm((y[str(L+1)] - y[str(L)])/y[str(L+1)])\n",
    "            if delta < delta_max:\n",
    "                break\n",
    "            else:\n",
    "                W, y_real = self.backward_propagation(y, L, W, delta_max, activation)\n",
    "        \n",
    "        return count, W, y_real\n",
    "    \n",
    "    def predict(self, x, W, L, activation):\n",
    "        \n",
    "        y = {'0': x}\n",
    "        y = self.forward_propagation(y, L, W, activation)\n",
    "            \n",
    "        return y[str(L)]"
   ]
  },
  {
   "cell_type": "code",
   "execution_count": 13,
   "metadata": {},
   "outputs": [],
   "source": [
    "count, W, y_real = NN_classifier().fit(x, y_expected, L, W, delta_max, 'relu')"
   ]
  },
  {
   "cell_type": "code",
   "execution_count": 14,
   "metadata": {},
   "outputs": [],
   "source": [
    "frame = pd.DataFrame({'Data': [count]}, index=['Кількість ітерацій'])\n",
    "for i in range(1, L+1):\n",
    "    frame = frame.append(pd.DataFrame({'Data': [np.array2string(W['W'+str(i)], precision=7, separator=', ')]},\n",
    "                              index=['W'+str(i)]))\n",
    "frame = frame.append(pd.DataFrame({'Data': [y_expected, y_real]}, index=['Y очікуване', 'Y реальне']))"
   ]
  },
  {
   "cell_type": "code",
   "execution_count": 15,
   "metadata": {},
   "outputs": [],
   "source": [
    "frame.to_csv('output_2.csv', sep=',', header=True, index=True)"
   ]
  },
  {
   "cell_type": "code",
   "execution_count": 16,
   "metadata": {
    "scrolled": true
   },
   "outputs": [
    {
     "data": {
      "text/html": [
       "<style  type=\"text/css\" >\n",
       "    #T_02b5552c_cbeb_11e8_8f1b_3863bbc8da29row0_col0 {\n",
       "            width:  450px;\n",
       "        }    #T_02b5552c_cbeb_11e8_8f1b_3863bbc8da29row1_col0 {\n",
       "            width:  450px;\n",
       "        }    #T_02b5552c_cbeb_11e8_8f1b_3863bbc8da29row2_col0 {\n",
       "            width:  450px;\n",
       "        }    #T_02b5552c_cbeb_11e8_8f1b_3863bbc8da29row3_col0 {\n",
       "            width:  450px;\n",
       "        }    #T_02b5552c_cbeb_11e8_8f1b_3863bbc8da29row4_col0 {\n",
       "            width:  450px;\n",
       "        }</style>  \n",
       "<table id=\"T_02b5552c_cbeb_11e8_8f1b_3863bbc8da29\" > \n",
       "<thead>    <tr> \n",
       "        <th class=\"blank level0\" ></th> \n",
       "        <th class=\"col_heading level0 col0\" >Data</th> \n",
       "    </tr></thead> \n",
       "<tbody>    <tr> \n",
       "        <th id=\"T_02b5552c_cbeb_11e8_8f1b_3863bbc8da29level0_row0\" class=\"row_heading level0 row0\" >Кількість ітерацій</th> \n",
       "        <td id=\"T_02b5552c_cbeb_11e8_8f1b_3863bbc8da29row0_col0\" class=\"data row0 col0\" >6</td> \n",
       "    </tr>    <tr> \n",
       "        <th id=\"T_02b5552c_cbeb_11e8_8f1b_3863bbc8da29level0_row1\" class=\"row_heading level0 row1\" >W1</th> \n",
       "        <td id=\"T_02b5552c_cbeb_11e8_8f1b_3863bbc8da29row1_col0\" class=\"data row1 col0\" >[[ 0.3301722,  0.2803444,  0.22431  ],\n",
       " [ 0.134881 , -0.360238 , -0.1152142],\n",
       " [ 0.1551074,  0.2402148, -0.1868066],\n",
       " [ 0.0293442, -0.1613116,  0.0288196]]</td> \n",
       "    </tr>    <tr> \n",
       "        <th id=\"T_02b5552c_cbeb_11e8_8f1b_3863bbc8da29level0_row2\" class=\"row_heading level0 row2\" >W2</th> \n",
       "        <td id=\"T_02b5552c_cbeb_11e8_8f1b_3863bbc8da29row2_col0\" class=\"data row2 col0\" >[[ 0.2660791,  0.21     ,  0.2456828, -0.1330033],\n",
       " [-0.5366457,  0.32     ,  0.0175792,  0.1467739]]</td> \n",
       "    </tr>    <tr> \n",
       "        <th id=\"T_02b5552c_cbeb_11e8_8f1b_3863bbc8da29level0_row3\" class=\"row_heading level0 row3\" >Y очікуване</th> \n",
       "        <td id=\"T_02b5552c_cbeb_11e8_8f1b_3863bbc8da29row3_col0\" class=\"data row3 col0\" >[[0.7]\n",
       " [0.2]]</td> \n",
       "    </tr>    <tr> \n",
       "        <th id=\"T_02b5552c_cbeb_11e8_8f1b_3863bbc8da29level0_row4\" class=\"row_heading level0 row4\" >Y реальне</th> \n",
       "        <td id=\"T_02b5552c_cbeb_11e8_8f1b_3863bbc8da29row4_col0\" class=\"data row4 col0\" >[[0.69400939]\n",
       " [0.20370568]]</td> \n",
       "    </tr></tbody> \n",
       "</table> "
      ],
      "text/plain": [
       "<pandas.io.formats.style.Styler at 0x119ee0eeac8>"
      ]
     },
     "execution_count": 16,
     "metadata": {},
     "output_type": "execute_result"
    }
   ],
   "source": [
    "frame.style.set_properties(subset=['Data'], **{'width': '450px'})"
   ]
  },
  {
   "cell_type": "markdown",
   "metadata": {},
   "source": [
    "### Режим розпізнавання"
   ]
  },
  {
   "cell_type": "code",
   "execution_count": 17,
   "metadata": {},
   "outputs": [
    {
     "name": "stdout",
     "output_type": "stream",
     "text": [
      "Y реальне: [[0.72825376]\n",
      " [0.43113895]]\n",
      "Y очікуване: [[0.7]\n",
      " [0.2]]\n"
     ]
    }
   ],
   "source": [
    "y_real = NN_classifier().predict([[8], [-2.7], [0.2]], W, L, 'relu')\n",
    "y_expected = np.array([[0.7], [0.2]])\n",
    "print(\"Y реальне: \"+str(y_real))\n",
    "print(\"Y очікуване: \"+str(y_expected))"
   ]
  }
 ],
 "metadata": {
  "kernelspec": {
   "display_name": "Python 3",
   "language": "python",
   "name": "python3"
  },
  "language_info": {
   "codemirror_mode": {
    "name": "ipython",
    "version": 3
   },
   "file_extension": ".py",
   "mimetype": "text/x-python",
   "name": "python",
   "nbconvert_exporter": "python",
   "pygments_lexer": "ipython3",
   "version": "3.6.5"
  }
 },
 "nbformat": 4,
 "nbformat_minor": 2
}
