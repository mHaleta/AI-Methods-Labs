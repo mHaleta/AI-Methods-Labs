{
 "cells": [
  {
   "cell_type": "code",
   "execution_count": 19,
   "metadata": {},
   "outputs": [],
   "source": [
    "import numpy as np\n",
    "import pandas as pd\n",
    "from ast import literal_eval"
   ]
  },
  {
   "cell_type": "markdown",
   "metadata": {},
   "source": [
    "# Task 1 Класичний нейрон з довільною кількістю входів"
   ]
  },
  {
   "cell_type": "markdown",
   "metadata": {},
   "source": [
    "### Режим навчання"
   ]
  },
  {
   "cell_type": "code",
   "execution_count": 20,
   "metadata": {},
   "outputs": [
    {
     "data": {
      "text/plain": [
       "{'Data': {'X': '[2, 4, 7, 3]',\n",
       "  'Y_expected': '0.7',\n",
       "  'W': '[0.2, 0.13, 0.27, 0.3]',\n",
       "  'delta_max': '0.01'}}"
      ]
     },
     "execution_count": 20,
     "metadata": {},
     "output_type": "execute_result"
    }
   ],
   "source": [
    "frame = pd.read_csv('input_1.csv', sep=',', index_col=0)\n",
    "data = frame.to_dict()\n",
    "data"
   ]
  },
  {
   "cell_type": "code",
   "execution_count": 3,
   "metadata": {},
   "outputs": [],
   "source": [
    "x = np.array(literal_eval(data['Data']['X']), dtype=float)\n",
    "y_expected = float(data['Data']['Y_expected'])\n",
    "W = np.array(literal_eval(data['Data']['W']), dtype=float)\n",
    "delta_max = float(data['Data']['delta_max'])"
   ]
  },
  {
   "cell_type": "code",
   "execution_count": 4,
   "metadata": {},
   "outputs": [],
   "source": [
    "class classifier():\n",
    "    \n",
    "    def fit(self, x, y_expected, W, delta_max):\n",
    "\n",
    "        count = 0\n",
    "        while True:\n",
    "            count += 1\n",
    "            X = np.dot(W.T, x)\n",
    "            y = 1/(1+np.exp(-X))\n",
    "            delta = np.abs((y_expected - y)/y_expected)\n",
    "            if delta < delta_max:\n",
    "                break\n",
    "            else:\n",
    "                delta_y = y*(1-y)*(y_expected - y)\n",
    "                delta_w = delta_y * x\n",
    "                W += delta_w\n",
    "        \n",
    "        return count, W, y\n",
    "    \n",
    "    def predict(self, x, W):\n",
    "        X = np.dot(W.T, x)\n",
    "        y = 1/(1+np.exp(-X))\n",
    "        return y"
   ]
  },
  {
   "cell_type": "code",
   "execution_count": 5,
   "metadata": {},
   "outputs": [],
   "source": [
    "count, W, y = classifier().fit(x, y_expected, W, delta_max)\n",
    "accuracy = 100 - np.abs((y_expected - y)/y_expected)*100"
   ]
  },
  {
   "cell_type": "code",
   "execution_count": 6,
   "metadata": {},
   "outputs": [],
   "source": [
    "frame = pd.DataFrame({'Data': [count, np.array2string(W, precision=7, separator=', '), y_expected, y, str(accuracy)+\" %\"]},\n",
    "                     index=['Кількість ітерацій', 'W', 'Y очікуване', 'Y реальне', 'Accuracy'])"
   ]
  },
  {
   "cell_type": "code",
   "execution_count": 7,
   "metadata": {},
   "outputs": [],
   "source": [
    "frame.to_csv('output_1.csv', sep=',', header=True, index=True)"
   ]
  },
  {
   "cell_type": "code",
   "execution_count": 8,
   "metadata": {},
   "outputs": [
    {
     "data": {
      "text/html": [
       "<style  type=\"text/css\" >\n",
       "    #T_5f0e1b92_c1ab_11e8_8081_3863bbc8da29row0_col0 {\n",
       "            width:  450px;\n",
       "        }    #T_5f0e1b92_c1ab_11e8_8081_3863bbc8da29row1_col0 {\n",
       "            width:  450px;\n",
       "        }    #T_5f0e1b92_c1ab_11e8_8081_3863bbc8da29row2_col0 {\n",
       "            width:  450px;\n",
       "        }    #T_5f0e1b92_c1ab_11e8_8081_3863bbc8da29row3_col0 {\n",
       "            width:  450px;\n",
       "        }    #T_5f0e1b92_c1ab_11e8_8081_3863bbc8da29row4_col0 {\n",
       "            width:  450px;\n",
       "        }</style>  \n",
       "<table id=\"T_5f0e1b92_c1ab_11e8_8081_3863bbc8da29\" > \n",
       "<thead>    <tr> \n",
       "        <th class=\"blank level0\" ></th> \n",
       "        <th class=\"col_heading level0 col0\" >Data</th> \n",
       "    </tr></thead> \n",
       "<tbody>    <tr> \n",
       "        <th id=\"T_5f0e1b92_c1ab_11e8_8081_3863bbc8da29level0_row0\" class=\"row_heading level0 row0\" >Кількість ітерацій</th> \n",
       "        <td id=\"T_5f0e1b92_c1ab_11e8_8081_3863bbc8da29row0_col0\" class=\"data row0 col0\" >237</td> \n",
       "    </tr>    <tr> \n",
       "        <th id=\"T_5f0e1b92_c1ab_11e8_8081_3863bbc8da29level0_row1\" class=\"row_heading level0 row1\" >W</th> \n",
       "        <td id=\"T_5f0e1b92_c1ab_11e8_8081_3863bbc8da29row1_col0\" class=\"data row1 col0\" >[ 0.1272668, -0.0154664,  0.0154338,  0.1909002]</td> \n",
       "    </tr>    <tr> \n",
       "        <th id=\"T_5f0e1b92_c1ab_11e8_8081_3863bbc8da29level0_row2\" class=\"row_heading level0 row2\" >Y очікуване</th> \n",
       "        <td id=\"T_5f0e1b92_c1ab_11e8_8081_3863bbc8da29row2_col0\" class=\"data row2 col0\" >0.7</td> \n",
       "    </tr>    <tr> \n",
       "        <th id=\"T_5f0e1b92_c1ab_11e8_8081_3863bbc8da29level0_row3\" class=\"row_heading level0 row3\" >Y реальне</th> \n",
       "        <td id=\"T_5f0e1b92_c1ab_11e8_8081_3863bbc8da29row3_col0\" class=\"data row3 col0\" >0.705454</td> \n",
       "    </tr>    <tr> \n",
       "        <th id=\"T_5f0e1b92_c1ab_11e8_8081_3863bbc8da29level0_row4\" class=\"row_heading level0 row4\" >Accuracy</th> \n",
       "        <td id=\"T_5f0e1b92_c1ab_11e8_8081_3863bbc8da29row4_col0\" class=\"data row4 col0\" >99.2208976334287 %</td> \n",
       "    </tr></tbody> \n",
       "</table> "
      ],
      "text/plain": [
       "<pandas.io.formats.style.Styler at 0x16ebf0db4a8>"
      ]
     },
     "execution_count": 8,
     "metadata": {},
     "output_type": "execute_result"
    }
   ],
   "source": [
    "frame.style.set_properties(subset=['Data'], **{'width': '450px'})"
   ]
  },
  {
   "cell_type": "markdown",
   "metadata": {},
   "source": [
    "### Режим розпізнавання"
   ]
  },
  {
   "cell_type": "code",
   "execution_count": 9,
   "metadata": {},
   "outputs": [
    {
     "name": "stdout",
     "output_type": "stream",
     "text": [
      "Y реальне: 0.9119010634317091\n",
      "Y очікуване: 0.7\n",
      "69.72841950975584 %\n"
     ]
    }
   ],
   "source": [
    "y = classifier().predict([6, 1, 4, 8], W)\n",
    "y_expected = 0.7\n",
    "accuracy = 100 - np.abs((y_expected - y)/y_expected)*100\n",
    "print(\"Y реальне: \"+str(y))\n",
    "print(\"Y очікуване: \"+str(y_expected))\n",
    "print(str(accuracy)+' %')"
   ]
  },
  {
   "cell_type": "markdown",
   "metadata": {},
   "source": [
    "# Task 2 ДШП"
   ]
  },
  {
   "cell_type": "markdown",
   "metadata": {},
   "source": [
    "### Режим навчання"
   ]
  },
  {
   "cell_type": "code",
   "execution_count": 10,
   "metadata": {},
   "outputs": [],
   "source": [
    "frame = pd.read_csv('input_2.csv', sep=',', index_col=0)\n",
    "data = frame.to_dict()"
   ]
  },
  {
   "cell_type": "code",
   "execution_count": 11,
   "metadata": {},
   "outputs": [],
   "source": [
    "x = np.array(literal_eval(data['Data']['X']), dtype=float)\n",
    "y_expected = np.array(literal_eval(data['Data']['Y_expected']))\n",
    "L = int(data['Data']['L'])\n",
    "W = {}\n",
    "for i in range(1, L+1):\n",
    "    W['W'+str(i)] = np.array(literal_eval(data['Data']['W'+str(i)]), dtype=float)\n",
    "delta_max = float(data['Data']['delta_max'])"
   ]
  },
  {
   "cell_type": "code",
   "execution_count": 12,
   "metadata": {},
   "outputs": [],
   "source": [
    "class NN_classifier():\n",
    "    \n",
    "    def linear_forward(self, A, W):\n",
    "        return np.dot(W, A)\n",
    "\n",
    "    def linear_activation_forward(self, A_prev, W):\n",
    "        Z = self.linear_forward(A_prev, W)\n",
    "        A = 1/(1+np.exp(-Z))\n",
    "        return A\n",
    "    \n",
    "    def fit(self, x, y_expected, L, W, delta_max):\n",
    "        count = 0\n",
    "        y = {'0': x,\n",
    "             str(L+1): y_expected}\n",
    "        delta_y = {}\n",
    "        delta_w = {}\n",
    "        while True:\n",
    "            count += 1\n",
    "            for i in range(L):\n",
    "                y_prev = y[str(i)]\n",
    "                y[str(i+1)] = self.linear_activation_forward(y_prev, W['W'+str(i+1)])\n",
    "            delta = np.abs((y[str(L+1)] - y[str(L)])/y[str(L+1)])\n",
    "            if delta < delta_max:\n",
    "                break\n",
    "            else:\n",
    "                delta_y[str(L-1)] = y[str(L)]*(1-y[str(L)])*(y[str(L+1)]-y[str(L)])\n",
    "                assert(delta_y[str(L-1)].shape == y[str(L)].shape)\n",
    "                delta_w[str(L-1)] = delta_y[str(L-1)]*y[str(L-1)]\n",
    "                W['W'+str(L)] += delta_w[str(L-1)].T\n",
    "                assert(W['W'+str(L)].shape == delta_w[str(L-1)].T.shape)\n",
    "                for i in range(L-1, 0, -1):\n",
    "                    delta_y[str(i-1)] = y[str(i)]*(1-y[str(i)])*np.dot(W['W'+str(i+1)].T, delta_y[str(i)])\n",
    "                    assert(delta_y[str(i)].shape == y[str(i+1)].shape)\n",
    "                    delta_w[str(i-1)] = np.dot(delta_y[str(i-1)], y[str(i-1)].T)\n",
    "                    W['W'+str(i)] += delta_w[str(i-1)]\n",
    "                    assert(W['W'+str(i)].shape == delta_w[str(i-1)].shape)\n",
    "\n",
    "        return count, W, y[str(L)]\n",
    "    \n",
    "    def predict(self, x, W, L):\n",
    "        y = {'0': x}\n",
    "        for i in range(L):\n",
    "            y_prev = y[str(i)]\n",
    "            y[str(i+1)] = self.linear_activation_forward(y_prev, W['W'+str(i+1)])\n",
    "            \n",
    "        return y[str(L)]"
   ]
  },
  {
   "cell_type": "code",
   "execution_count": 13,
   "metadata": {},
   "outputs": [],
   "source": [
    "count, W, y = NN_classifier().fit(x, y_expected, L, W, delta_max)\n",
    "accuracy = 100 - np.abs((y_expected - y)/y_expected)*100"
   ]
  },
  {
   "cell_type": "code",
   "execution_count": 14,
   "metadata": {},
   "outputs": [],
   "source": [
    "frame = pd.DataFrame({'Data': [count, np.array2string(W['W1'], precision=7, separator=', '),\n",
    "                               np.array2string(W['W2'], precision=7, separator=', '),\n",
    "                               np.array2string(W['W3'], precision=7, separator=', '),\n",
    "                               np.array2string(W['W4'], precision=7, separator=', '),\n",
    "                               y_expected[0][0], y[0][0], str(accuracy[0][0])+\" %\"]},\n",
    "                               index=['Кількість ітерацій', 'W1', 'W2', 'W3', 'W4', 'Y очікуване', 'Y реальне', 'Accuracy'])"
   ]
  },
  {
   "cell_type": "code",
   "execution_count": 15,
   "metadata": {},
   "outputs": [],
   "source": [
    "frame.to_csv('output_2.csv', sep=',', header=True, index=True)"
   ]
  },
  {
   "cell_type": "code",
   "execution_count": 16,
   "metadata": {
    "scrolled": true
   },
   "outputs": [
    {
     "data": {
      "text/html": [
       "<style  type=\"text/css\" >\n",
       "    #T_600202c6_c1ab_11e8_b3f8_3863bbc8da29row0_col0 {\n",
       "            width:  450px;\n",
       "        }    #T_600202c6_c1ab_11e8_b3f8_3863bbc8da29row1_col0 {\n",
       "            width:  450px;\n",
       "        }    #T_600202c6_c1ab_11e8_b3f8_3863bbc8da29row2_col0 {\n",
       "            width:  450px;\n",
       "        }    #T_600202c6_c1ab_11e8_b3f8_3863bbc8da29row3_col0 {\n",
       "            width:  450px;\n",
       "        }    #T_600202c6_c1ab_11e8_b3f8_3863bbc8da29row4_col0 {\n",
       "            width:  450px;\n",
       "        }    #T_600202c6_c1ab_11e8_b3f8_3863bbc8da29row5_col0 {\n",
       "            width:  450px;\n",
       "        }    #T_600202c6_c1ab_11e8_b3f8_3863bbc8da29row6_col0 {\n",
       "            width:  450px;\n",
       "        }    #T_600202c6_c1ab_11e8_b3f8_3863bbc8da29row7_col0 {\n",
       "            width:  450px;\n",
       "        }</style>  \n",
       "<table id=\"T_600202c6_c1ab_11e8_b3f8_3863bbc8da29\" > \n",
       "<thead>    <tr> \n",
       "        <th class=\"blank level0\" ></th> \n",
       "        <th class=\"col_heading level0 col0\" >Data</th> \n",
       "    </tr></thead> \n",
       "<tbody>    <tr> \n",
       "        <th id=\"T_600202c6_c1ab_11e8_b3f8_3863bbc8da29level0_row0\" class=\"row_heading level0 row0\" >Кількість ітерацій</th> \n",
       "        <td id=\"T_600202c6_c1ab_11e8_b3f8_3863bbc8da29row0_col0\" class=\"data row0 col0\" >87</td> \n",
       "    </tr>    <tr> \n",
       "        <th id=\"T_600202c6_c1ab_11e8_b3f8_3863bbc8da29level0_row1\" class=\"row_heading level0 row1\" >W1</th> \n",
       "        <td id=\"T_600202c6_c1ab_11e8_b3f8_3863bbc8da29row1_col0\" class=\"data row1 col0\" >[[0.2030074],\n",
       " [0.1219651]]</td> \n",
       "    </tr>    <tr> \n",
       "        <th id=\"T_600202c6_c1ab_11e8_b3f8_3863bbc8da29level0_row2\" class=\"row_heading level0 row2\" >W2</th> \n",
       "        <td id=\"T_600202c6_c1ab_11e8_b3f8_3863bbc8da29row2_col0\" class=\"data row2 col0\" >[[0.1680268, 0.2081557],\n",
       " [0.2384005, 0.1578509],\n",
       " [0.4546843, 0.3243779]]</td> \n",
       "    </tr>    <tr> \n",
       "        <th id=\"T_600202c6_c1ab_11e8_b3f8_3863bbc8da29level0_row3\" class=\"row_heading level0 row3\" >W3</th> \n",
       "        <td id=\"T_600202c6_c1ab_11e8_b3f8_3863bbc8da29row3_col0\" class=\"data row3 col0\" >[[ 0.200648 ,  0.3708346,  0.1558245],\n",
       " [-0.2395036,  0.2607128,  0.2266751]]</td> \n",
       "    </tr>    <tr> \n",
       "        <th id=\"T_600202c6_c1ab_11e8_b3f8_3863bbc8da29level0_row4\" class=\"row_heading level0 row4\" >W4</th> \n",
       "        <td id=\"T_600202c6_c1ab_11e8_b3f8_3863bbc8da29row4_col0\" class=\"data row4 col0\" >[[0.6940249, 0.7381032]]</td> \n",
       "    </tr>    <tr> \n",
       "        <th id=\"T_600202c6_c1ab_11e8_b3f8_3863bbc8da29level0_row5\" class=\"row_heading level0 row5\" >Y очікуване</th> \n",
       "        <td id=\"T_600202c6_c1ab_11e8_b3f8_3863bbc8da29row5_col0\" class=\"data row5 col0\" >0.7</td> \n",
       "    </tr>    <tr> \n",
       "        <th id=\"T_600202c6_c1ab_11e8_b3f8_3863bbc8da29level0_row6\" class=\"row_heading level0 row6\" >Y реальне</th> \n",
       "        <td id=\"T_600202c6_c1ab_11e8_b3f8_3863bbc8da29row6_col0\" class=\"data row6 col0\" >0.693098</td> \n",
       "    </tr>    <tr> \n",
       "        <th id=\"T_600202c6_c1ab_11e8_b3f8_3863bbc8da29level0_row7\" class=\"row_heading level0 row7\" >Accuracy</th> \n",
       "        <td id=\"T_600202c6_c1ab_11e8_b3f8_3863bbc8da29row7_col0\" class=\"data row7 col0\" >99.01401996344205 %</td> \n",
       "    </tr></tbody> \n",
       "</table> "
      ],
      "text/plain": [
       "<pandas.io.formats.style.Styler at 0x16ec0005710>"
      ]
     },
     "execution_count": 16,
     "metadata": {},
     "output_type": "execute_result"
    }
   ],
   "source": [
    "frame.style.set_properties(subset=['Data'], **{'width': '450px'})"
   ]
  },
  {
   "cell_type": "markdown",
   "metadata": {},
   "source": [
    "### Режим розпізнавання"
   ]
  },
  {
   "cell_type": "code",
   "execution_count": 18,
   "metadata": {},
   "outputs": [
    {
     "name": "stdout",
     "output_type": "stream",
     "text": [
      "Y реальне: 0.6949699865664937\n",
      "Y очікуване: 0.7\n",
      "99.28142665235625 %\n"
     ]
    }
   ],
   "source": [
    "y = NN_classifier().predict([[35]], W, L)\n",
    "y_expected = 0.7\n",
    "accuracy = 100 - np.abs((y_expected - y)/y_expected)*100\n",
    "print(\"Y реальне: \"+str(y[0][0]))\n",
    "print(\"Y очікуване: \"+str(y_expected))\n",
    "print(str(accuracy[0][0])+' %')"
   ]
  }
 ],
 "metadata": {
  "kernelspec": {
   "display_name": "Python 3",
   "language": "python",
   "name": "python3"
  },
  "language_info": {
   "codemirror_mode": {
    "name": "ipython",
    "version": 3
   },
   "file_extension": ".py",
   "mimetype": "text/x-python",
   "name": "python",
   "nbconvert_exporter": "python",
   "pygments_lexer": "ipython3",
   "version": "3.6.5"
  }
 },
 "nbformat": 4,
 "nbformat_minor": 2
}
