{
 "cells": [
  {
   "cell_type": "code",
   "execution_count": 1,
   "metadata": {},
   "outputs": [],
   "source": [
    "import struct\n",
    "import numpy as np\n",
    "import matplotlib.pyplot as plt\n",
    "import seaborn as sns\n",
    "import pandas as pd\n",
    "\n",
    "%matplotlib inline\n",
    "sns.set(style='whitegrid', palette='muted', font_scale=1.5)"
   ]
  },
  {
   "cell_type": "markdown",
   "metadata": {},
   "source": [
    "## PNN model"
   ]
  },
  {
   "cell_type": "code",
   "execution_count": 2,
   "metadata": {},
   "outputs": [],
   "source": [
    "def read_mnist(train_images_path, train_labels_path, test_images_path, test_labels_path):\n",
    "    with open(train_labels_path, 'rb') as p:\n",
    "        magic, n = struct.unpack('>II', p.read(8))\n",
    "        train_labels = np.fromfile(p, dtype=np.uint8)\n",
    "    with open(train_images_path, 'rb') as p:\n",
    "        magic, num, rows, cols = struct.unpack(\">IIII\", p.read(16))\n",
    "        train_images = np.fromfile(p, dtype=np.uint8).reshape(len(train_labels), 784)\n",
    "    with open(test_labels_path, 'rb') as p:\n",
    "        magic, n = struct.unpack('>II', p.read(8))\n",
    "        test_labels = np.fromfile(p, dtype=np.uint8)\n",
    "    with open(test_images_path, 'rb') as p:\n",
    "        magic, num, rows, cols = struct.unpack(\">IIII\", p.read(16))\n",
    "        test_images = np.fromfile(p, dtype=np.uint8).reshape(len(test_labels), 784)\n",
    "\n",
    "    return train_images, train_labels, test_images, test_labels"
   ]
  },
  {
   "cell_type": "code",
   "execution_count": 3,
   "metadata": {},
   "outputs": [],
   "source": [
    "def load_data():     \n",
    "    X_train, Y_train, X_test, Y_test = read_mnist('mnist/train-images.idx3-ubyte', 'mnist/train-labels.idx1-ubyte',\n",
    "                                                  'mnist/t10k-images.idx3-ubyte', 'mnist/t10k-labels.idx1-ubyte')\n",
    "    \n",
    "    train_set_x = X_train.reshape(X_train.shape[0], -1).T\n",
    "    train_set_y = Y_train.reshape((1, Y_train.shape[0]))\n",
    "    test_set_x = X_test.reshape(X_test.shape[0], -1).T\n",
    "    test_set_y = Y_test.reshape((1, Y_test.shape[0]))\n",
    "    \n",
    "    return train_set_x, test_set_x, train_set_y, test_set_y"
   ]
  },
  {
   "cell_type": "code",
   "execution_count": 4,
   "metadata": {
    "scrolled": true
   },
   "outputs": [
    {
     "name": "stdout",
     "output_type": "stream",
     "text": [
      "train set shapes:  (784, 60000) (1, 60000)\n",
      "test set shapes:  (784, 10000) (1, 10000)\n"
     ]
    }
   ],
   "source": [
    "train_set_x, test_set_x, train_set_y, test_set_y = load_data()\n",
    "print('train set shapes: ', train_set_x.shape, train_set_y.shape)\n",
    "print('test set shapes: ', test_set_x.shape, test_set_y.shape)"
   ]
  },
  {
   "cell_type": "code",
   "execution_count": 5,
   "metadata": {},
   "outputs": [],
   "source": [
    "def plot_digit(x_set, y_set, idx):\n",
    "    img = x_set.T[idx].reshape(28,28)\n",
    "    plt.imshow(img, cmap='Greys',  interpolation='nearest')\n",
    "    plt.title('true label: %d' % y_set.T[idx])\n",
    "    plt.show()"
   ]
  },
  {
   "cell_type": "code",
   "execution_count": 6,
   "metadata": {},
   "outputs": [
    {
     "data": {
      "image/png": "[encoded data removed]",
      "text/plain": [
       "<Figure size 432x288 with 1 Axes>"
      ]
     },
     "metadata": {},
     "output_type": "display_data"
    }
   ],
   "source": [
    "plot_digit(train_set_x, train_set_y, idx=2)"
   ]
  },
  {
   "cell_type": "code",
   "execution_count": 7,
   "metadata": {},
   "outputs": [],
   "source": [
    "train_set_x = train_set_x / 255.\n",
    "train_set_x = train_set_x.T\n",
    "test_set_x = test_set_x / 255.\n",
    "test_set_x = test_set_x.T\n",
    "train_set_y, test_set_y = train_set_y.T, test_set_y.T "
   ]
  },
  {
   "cell_type": "code",
   "execution_count": 8,
   "metadata": {},
   "outputs": [],
   "source": [
    "train_set = sorted(zip(train_set_y, train_set_x), key=lambda tup: tup[0])\n",
    "\n",
    "train_set_x = np.array([x[1] for x in train_set])\n",
    "train_set_y = np.array([x[0] for x in train_set])"
   ]
  },
  {
   "cell_type": "code",
   "execution_count": 9,
   "metadata": {},
   "outputs": [],
   "source": [
    "j = 0\n",
    "count_list = []\n",
    "for i in range(10):\n",
    "    count = 0\n",
    "    while j != 60000 and train_set_y[j][0] == i:\n",
    "        j += 1\n",
    "        count += 1\n",
    "    count_list.append(j)"
   ]
  },
  {
   "cell_type": "code",
   "execution_count": 10,
   "metadata": {},
   "outputs": [],
   "source": [
    "K = np.zeros((10,60000))\n",
    "for k in range(10):\n",
    "    for i in range(train_set_x.shape[0]):\n",
    "        s = 0\n",
    "        for j in range(train_set_x.shape[1]):\n",
    "            s += (train_set_x[i][j] - test_set_x[k][j])**2\n",
    "        K[k][i] = np.exp(-s/0.5)"
   ]
  },
  {
   "cell_type": "code",
   "execution_count": 11,
   "metadata": {},
   "outputs": [],
   "source": [
    "K_sum = np.zeros((10,10))\n",
    "for i in range(K.shape[0]):\n",
    "    K_sum[i][0] = np.sum(K[i][:count_list[0]])\n",
    "    for j in range(1, 10):\n",
    "        K_sum[i][j] = np.sum(K[i][count_list[j-1]:count_list[j]])"
   ]
  },
  {
   "cell_type": "code",
   "execution_count": 12,
   "metadata": {},
   "outputs": [],
   "source": [
    "y_real = np.argmax(K_sum, axis=1)"
   ]
  },
  {
   "cell_type": "code",
   "execution_count": 17,
   "metadata": {},
   "outputs": [
    {
     "name": "stdout",
     "output_type": "stream",
     "text": [
      "[7 2 1 0 4 1 4 9 5 9]\n",
      "[7 2 1 0 4 1 4 9 5 9]\n"
     ]
    }
   ],
   "source": [
    "print(y_real)\n",
    "print(test_set_y.T[0][:10])"
   ]
  },
  {
   "cell_type": "markdown",
   "metadata": {},
   "source": [
    "## Створення файлів train_set.csv та test_set.csv"
   ]
  },
  {
   "cell_type": "code",
   "execution_count": null,
   "metadata": {},
   "outputs": [],
   "source": [
    "def one_hot(Y, n_classes):\n",
    "    return np.eye(n_classes)[Y][0]"
   ]
  },
  {
   "cell_type": "code",
   "execution_count": null,
   "metadata": {},
   "outputs": [],
   "source": [
    "train_set_y = one_hot(train_set_y.T, 10)\n",
    "test_set_y = one_hot(test_set_y.T, 10)"
   ]
  },
  {
   "cell_type": "code",
   "execution_count": null,
   "metadata": {},
   "outputs": [],
   "source": [
    "data = {'Вагові коефіцієнти': {},\n",
    "        'Класи': {}}\n",
    "    \n",
    "for i in range(train_set_x.shape[0]):\n",
    "    s = \"\"\n",
    "    for j in range(train_set_x.shape[1]):\n",
    "        if j == train_set_x.shape[1]-1:\n",
    "            s += \"{:.8}\".format(train_set_x[i][j])\n",
    "        else:\n",
    "            s += \"{:.8}, \".format(train_set_x[i][j])\n",
    "    \n",
    "    data['Вагові коефіцієнти'][str(i+1)] = s\n",
    "\n",
    "for i in range(train_set_y.shape[0]):\n",
    "    s = \"\"\n",
    "    for j in range(train_set_y.shape[1]):\n",
    "        if j == train_set_y.shape[1]-1:\n",
    "            s += \"{:.8}\".format(train_set_y[i][j])\n",
    "        else:\n",
    "            s += \"{:.8}, \".format(train_set_y[i][j])\n",
    "            \n",
    "    data['Класи'][str(i+1)] = s"
   ]
  },
  {
   "cell_type": "code",
   "execution_count": null,
   "metadata": {},
   "outputs": [],
   "source": [
    "frame = pd.DataFrame.from_dict(data)"
   ]
  },
  {
   "cell_type": "code",
   "execution_count": null,
   "metadata": {},
   "outputs": [],
   "source": [
    "frame.to_csv('train_set.csv', sep=',', header=True, index=True)"
   ]
  },
  {
   "cell_type": "code",
   "execution_count": null,
   "metadata": {},
   "outputs": [],
   "source": [
    "data = {'Вагові коефіцієнти': {},\n",
    "        'Класи': {}}\n",
    "    \n",
    "for i in range(test_set_x.shape[0]):\n",
    "    s = \"\"\n",
    "    for j in range(test_set_x.shape[1]):\n",
    "        if j == test_set_x.shape[1]-1:\n",
    "            s += \"{:.8}\".format(test_set_x[i][j])\n",
    "        else:\n",
    "            s += \"{:.8}, \".format(test_set_x[i][j])\n",
    "    \n",
    "    data['Вагові коефіцієнти'][str(i+1)] = s\n",
    "\n",
    "for i in range(test_set_y.shape[0]):\n",
    "    s = \"\"\n",
    "    for j in range(test_set_y.shape[1]):\n",
    "        if j == test_set_y.shape[1]-1:\n",
    "            s += \"{:.8}\".format(test_set_y[i][j])\n",
    "        else:\n",
    "            s += \"{:.8}, \".format(test_set_y[i][j])\n",
    "            \n",
    "    data['Класи'][str(i+1)] = s"
   ]
  },
  {
   "cell_type": "code",
   "execution_count": null,
   "metadata": {},
   "outputs": [],
   "source": [
    "frame = pd.DataFrame.from_dict(data)"
   ]
  },
  {
   "cell_type": "code",
   "execution_count": null,
   "metadata": {},
   "outputs": [],
   "source": [
    "frame.to_csv('test_set.csv', sep=',', header=True, index=True)"
   ]
  },
  {
   "cell_type": "code",
   "execution_count": null,
   "metadata": {},
   "outputs": [],
   "source": [
    "test_set_x = test_set_x / 255.\n",
    "test_set_x = test_set_x.T"
   ]
  },
  {
   "cell_type": "code",
   "execution_count": null,
   "metadata": {},
   "outputs": [],
   "source": [
    "test_set_y = one_hot(test_set_y, 10)"
   ]
  },
  {
   "cell_type": "code",
   "execution_count": null,
   "metadata": {},
   "outputs": [],
   "source": []
  }
 ],
 "metadata": {
  "kernelspec": {
   "display_name": "Python 3",
   "language": "python",
   "name": "python3"
  },
  "language_info": {
   "codemirror_mode": {
    "name": "ipython",
    "version": 3
   },
   "file_extension": ".py",
   "mimetype": "text/x-python",
   "name": "python",
   "nbconvert_exporter": "python",
   "pygments_lexer": "ipython3",
   "version": "3.6.5"
  }
 },
 "nbformat": 4,
 "nbformat_minor": 2
}
