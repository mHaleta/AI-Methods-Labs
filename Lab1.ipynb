{
 "cells": [
  {
   "cell_type": "code",
   "execution_count": 1,
   "metadata": {},
   "outputs": [],
   "source": [
    "import numpy as np"
   ]
  },
  {
   "cell_type": "code",
   "execution_count": 2,
   "metadata": {},
   "outputs": [],
   "source": [
    "x = 3\n",
    "y_expected = 0.02\n",
    "w = 0.01\n",
    "delta = 0.01\n",
    "\n",
    "count = 0\n",
    "\n",
    "while True:\n",
    "    count += 1\n",
    "    X = x * w\n",
    "    y = 1/(1+np.exp(-X))\n",
    "    delta_ = np.abs((y_expected - y)/y_expected)\n",
    "    if delta_ < delta:\n",
    "        break\n",
    "    else:\n",
    "        delta_1 = y*(1-y)*(y_expected - y)\n",
    "        delta_w = delta_1 * x\n",
    "        w += delta_w"
   ]
  },
  {
   "cell_type": "code",
   "execution_count": 3,
   "metadata": {},
   "outputs": [
    {
     "name": "stdout",
     "output_type": "stream",
     "text": [
      "Кількість ітерацій: 1057\n",
      "Ваговий коефіцієнт: -1.293898276097904\n",
      "Y очікуване: 0.02\n",
      "Y реальне: 0.020199426763603978\n",
      "Accuracy: 99.00286618198011 %\n"
     ]
    }
   ],
   "source": [
    "print(\"Кількість ітерацій: \" + str(count))\n",
    "print(\"Ваговий коефіцієнт: \" + str(w))\n",
    "print(\"Y очікуване: \" + str(y_expected))\n",
    "print(\"Y реальне: \" + str(y))\n",
    "print(\"Accuracy: \" + str((100 - np.abs((y_expected - y)/y_expected)*100)) + \" %\")"
   ]
  },
  {
   "cell_type": "code",
   "execution_count": null,
   "metadata": {},
   "outputs": [],
   "source": [
    "x = \n",
    "y_expected = \n",
    "X = w*x\n",
    "y = 1/(1+np.exp(-X))"
   ]
  }
 ],
 "metadata": {
  "kernelspec": {
   "display_name": "Python 3",
   "language": "python",
   "name": "python3"
  },
  "language_info": {
   "codemirror_mode": {
    "name": "ipython",
    "version": 3
   },
   "file_extension": ".py",
   "mimetype": "text/x-python",
   "name": "python",
   "nbconvert_exporter": "python",
   "pygments_lexer": "ipython3",
   "version": "3.6.5"
  }
 },
 "nbformat": 4,
 "nbformat_minor": 2
}
